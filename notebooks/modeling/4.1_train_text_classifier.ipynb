{
 "cells": [
  {
   "cell_type": "markdown",
   "metadata": {},
   "source": [
    "# Exploratory Data Analysis\n",
    "\n",
    "## New York Time Articles - Data Modeling\n",
    "\n",
    "### Goal of this notebook\n",
    "\n",
    "> Train and select best Text Classifier for predicting article subject, `new_desk`, based on its text."
   ]
  },
  {
   "cell_type": "markdown",
   "metadata": {},
   "source": [
    "### Data Load"
   ]
  },
  {
   "cell_type": "markdown",
   "metadata": {},
   "source": [
    "Import libraries."
   ]
  },
  {
   "cell_type": "code",
   "execution_count": 62,
   "metadata": {},
   "outputs": [
    {
     "name": "stderr",
     "output_type": "stream",
     "text": [
      "C:\\Users\\muril\\miniconda3\\envs\\ds-env\\lib\\site-packages\\tqdm\\std.py:668: FutureWarning: The Panel class is removed from pandas. Accessing it from the top-level namespace will also be removed in the next version\n",
      "  from pandas import Panel\n"
     ]
    }
   ],
   "source": [
    "# visualization and processing packages\n",
    "import joblib\n",
    "import numpy as np\n",
    "import pandas as pd\n",
    "import seaborn as sns\n",
    "from tqdm import tqdm\n",
    "import matplotlib.pyplot as plt\n",
    "from src.paths import LOCAL_INTERIM_DATA_PATH, LOCAL_MODELS_PATH\n",
    "\n",
    "# custom packages for simplifing readibility of current notebook\n",
    "from src.visualization.Plotter import plot_confusion_matrix\n",
    "from src.processing.IOController import load_normalized_nyt_df\n",
    "from src.processing.DataManipulator import get_most_correlated_tokens, predict_text, train_text_classifier, compare_models, plot_prediction_mistakes\n",
    "\n",
    "# sklearn packages for machine learning / text classifier\n",
    "from sklearn import metrics\n",
    "from sklearn.svm import LinearSVC\n",
    "from sklearn.naive_bayes import MultinomialNB\n",
    "from sklearn.linear_model import LogisticRegression\n",
    "from sklearn.ensemble import RandomForestClassifier\n",
    "from sklearn.model_selection import train_test_split, cross_val_score\n",
    "from sklearn.feature_extraction.text import CountVectorizer, TfidfTransformer, TfidfVectorizer\n",
    "\n",
    "tqdm.pandas()"
   ]
  },
  {
   "cell_type": "markdown",
   "metadata": {},
   "source": [
    "Load consolidated DataFrame."
   ]
  },
  {
   "cell_type": "code",
   "execution_count": 2,
   "metadata": {},
   "outputs": [
    {
     "data": {
      "text/html": [
       "<div>\n",
       "<style scoped>\n",
       "    .dataframe tbody tr th:only-of-type {\n",
       "        vertical-align: middle;\n",
       "    }\n",
       "\n",
       "    .dataframe tbody tr th {\n",
       "        vertical-align: top;\n",
       "    }\n",
       "\n",
       "    .dataframe thead th {\n",
       "        text-align: right;\n",
       "    }\n",
       "</style>\n",
       "<table border=\"1\" class=\"dataframe\">\n",
       "  <thead>\n",
       "    <tr style=\"text-align: right;\">\n",
       "      <th></th>\n",
       "      <th>0</th>\n",
       "      <th>1</th>\n",
       "    </tr>\n",
       "  </thead>\n",
       "  <tbody>\n",
       "    <tr>\n",
       "      <th>abstract</th>\n",
       "      <td>A Times video investigation identified Chinese...</td>\n",
       "      <td>Anger at lockdowns and mask mandates provides ...</td>\n",
       "    </tr>\n",
       "    <tr>\n",
       "      <th>web_url</th>\n",
       "      <td>https://www.nytimes.com/2020/07/19/world/asia/...</td>\n",
       "      <td>https://www.nytimes.com/2020/07/19/business/me...</td>\n",
       "    </tr>\n",
       "    <tr>\n",
       "      <th>snippet</th>\n",
       "      <td>A Times video investigation identified Chinese...</td>\n",
       "      <td>Anger at lockdowns and mask mandates provides ...</td>\n",
       "    </tr>\n",
       "    <tr>\n",
       "      <th>lead_paragraph</th>\n",
       "      <td>As the coronavirus pandemic continues to drive...</td>\n",
       "      <td>COLUMBUS, Ohio — If you’ve been following Gov....</td>\n",
       "    </tr>\n",
       "    <tr>\n",
       "      <th>source</th>\n",
       "      <td>The New York Times</td>\n",
       "      <td>The New York Times</td>\n",
       "    </tr>\n",
       "    <tr>\n",
       "      <th>multimedia</th>\n",
       "      <td>[]</td>\n",
       "      <td>[{'rank': 0, 'subtype': 'xlarge', 'caption': N...</td>\n",
       "    </tr>\n",
       "    <tr>\n",
       "      <th>headline</th>\n",
       "      <td>{'main': 'China Is Using Uighur Labor to Produ...</td>\n",
       "      <td>{'main': 'An Ex-Times Reporter. An Ohio Weddin...</td>\n",
       "    </tr>\n",
       "    <tr>\n",
       "      <th>keywords</th>\n",
       "      <td>[{'name': 'subject', 'value': 'Uighurs (Chines...</td>\n",
       "      <td>[{'name': 'subject', 'value': 'Coronavirus (20...</td>\n",
       "    </tr>\n",
       "    <tr>\n",
       "      <th>pub_date</th>\n",
       "      <td>2020-07-19 20:00:09+00:00</td>\n",
       "      <td>2020-07-20 00:30:07+00:00</td>\n",
       "    </tr>\n",
       "    <tr>\n",
       "      <th>document_type</th>\n",
       "      <td>article</td>\n",
       "      <td>article</td>\n",
       "    </tr>\n",
       "    <tr>\n",
       "      <th>news_desk</th>\n",
       "      <td>Foreign</td>\n",
       "      <td>Business</td>\n",
       "    </tr>\n",
       "    <tr>\n",
       "      <th>section_name</th>\n",
       "      <td>World</td>\n",
       "      <td>Business Day</td>\n",
       "    </tr>\n",
       "    <tr>\n",
       "      <th>subsection_name</th>\n",
       "      <td>Asia Pacific</td>\n",
       "      <td>Media</td>\n",
       "    </tr>\n",
       "    <tr>\n",
       "      <th>byline</th>\n",
       "      <td>{'original': 'By Muyi Xiao, Haley Willis, Chri...</td>\n",
       "      <td>{'original': 'By Ben Smith', 'person': [{'firs...</td>\n",
       "    </tr>\n",
       "    <tr>\n",
       "      <th>type_of_material</th>\n",
       "      <td>News</td>\n",
       "      <td>News</td>\n",
       "    </tr>\n",
       "    <tr>\n",
       "      <th>_id</th>\n",
       "      <td>nyt://article/01f6e842-bd72-5372-8dee-9a6805c0...</td>\n",
       "      <td>nyt://article/0a910bd9-7727-5f9d-9a14-d75644a9...</td>\n",
       "    </tr>\n",
       "    <tr>\n",
       "      <th>word_count</th>\n",
       "      <td>400</td>\n",
       "      <td>2199</td>\n",
       "    </tr>\n",
       "    <tr>\n",
       "      <th>uri</th>\n",
       "      <td>nyt://article/01f6e842-bd72-5372-8dee-9a6805c0...</td>\n",
       "      <td>nyt://article/0a910bd9-7727-5f9d-9a14-d75644a9...</td>\n",
       "    </tr>\n",
       "    <tr>\n",
       "      <th>print_section</th>\n",
       "      <td>NaN</td>\n",
       "      <td>B</td>\n",
       "    </tr>\n",
       "    <tr>\n",
       "      <th>print_page</th>\n",
       "      <td>NaN</td>\n",
       "      <td>1</td>\n",
       "    </tr>\n",
       "    <tr>\n",
       "      <th>slideshow_credits</th>\n",
       "      <td>NaN</td>\n",
       "      <td>NaN</td>\n",
       "    </tr>\n",
       "  </tbody>\n",
       "</table>\n",
       "</div>"
      ],
      "text/plain": [
       "                                                                   0  \\\n",
       "abstract           A Times video investigation identified Chinese...   \n",
       "web_url            https://www.nytimes.com/2020/07/19/world/asia/...   \n",
       "snippet            A Times video investigation identified Chinese...   \n",
       "lead_paragraph     As the coronavirus pandemic continues to drive...   \n",
       "source                                            The New York Times   \n",
       "multimedia                                                        []   \n",
       "headline           {'main': 'China Is Using Uighur Labor to Produ...   \n",
       "keywords           [{'name': 'subject', 'value': 'Uighurs (Chines...   \n",
       "pub_date                                   2020-07-19 20:00:09+00:00   \n",
       "document_type                                                article   \n",
       "news_desk                                                    Foreign   \n",
       "section_name                                                   World   \n",
       "subsection_name                                         Asia Pacific   \n",
       "byline             {'original': 'By Muyi Xiao, Haley Willis, Chri...   \n",
       "type_of_material                                                News   \n",
       "_id                nyt://article/01f6e842-bd72-5372-8dee-9a6805c0...   \n",
       "word_count                                                       400   \n",
       "uri                nyt://article/01f6e842-bd72-5372-8dee-9a6805c0...   \n",
       "print_section                                                    NaN   \n",
       "print_page                                                       NaN   \n",
       "slideshow_credits                                                NaN   \n",
       "\n",
       "                                                                   1  \n",
       "abstract           Anger at lockdowns and mask mandates provides ...  \n",
       "web_url            https://www.nytimes.com/2020/07/19/business/me...  \n",
       "snippet            Anger at lockdowns and mask mandates provides ...  \n",
       "lead_paragraph     COLUMBUS, Ohio — If you’ve been following Gov....  \n",
       "source                                            The New York Times  \n",
       "multimedia         [{'rank': 0, 'subtype': 'xlarge', 'caption': N...  \n",
       "headline           {'main': 'An Ex-Times Reporter. An Ohio Weddin...  \n",
       "keywords           [{'name': 'subject', 'value': 'Coronavirus (20...  \n",
       "pub_date                                   2020-07-20 00:30:07+00:00  \n",
       "document_type                                                article  \n",
       "news_desk                                                   Business  \n",
       "section_name                                            Business Day  \n",
       "subsection_name                                                Media  \n",
       "byline             {'original': 'By Ben Smith', 'person': [{'firs...  \n",
       "type_of_material                                                News  \n",
       "_id                nyt://article/0a910bd9-7727-5f9d-9a14-d75644a9...  \n",
       "word_count                                                      2199  \n",
       "uri                nyt://article/0a910bd9-7727-5f9d-9a14-d75644a9...  \n",
       "print_section                                                      B  \n",
       "print_page                                                         1  \n",
       "slideshow_credits                                                NaN  "
      ]
     },
     "execution_count": 2,
     "metadata": {},
     "output_type": "execute_result"
    }
   ],
   "source": [
    "df = load_normalized_nyt_df(LOCAL_INTERIM_DATA_PATH / 'nyt-articles-consolidated.csv')\n",
    "df = df.reset_index().drop('index', axis=1)\n",
    "df.head(2).T"
   ]
  },
  {
   "cell_type": "markdown",
   "metadata": {},
   "source": [
    "### Classes Balancing"
   ]
  },
  {
   "cell_type": "markdown",
   "metadata": {},
   "source": [
    "Remove data with missing `abstract`\n",
    "\n",
    "> Just noticed there were some missing spots on our target variable, better to get rid of them prior to diving deeper."
   ]
  },
  {
   "cell_type": "code",
   "execution_count": 3,
   "metadata": {},
   "outputs": [],
   "source": [
    "df = df[df.abstract.notna()]"
   ]
  },
  {
   "cell_type": "markdown",
   "metadata": {},
   "source": [
    "Check classes distribution.\n",
    "\n",
    "> It's important to check the classes distribution before training our model. Usually classes which a predominant tend to bias the classifier. Also, classes which have too few samples tend to be ignored by the model and treated as outliers. The idea here is to avoid overly amplifing or reducing the signal caught from our features and thus minimize biased predictions."
   ]
  },
  {
   "cell_type": "code",
   "execution_count": 4,
   "metadata": {},
   "outputs": [
    {
     "data": {
      "image/png": "[encoded data removed]",
      "text/plain": [
       "<Figure size 864x432 with 1 Axes>"
      ]
     },
     "metadata": {
      "needs_background": "light"
     },
     "output_type": "display_data"
    }
   ],
   "source": [
    "_ = df.news_desk.value_counts(ascending=True).plot(kind='barh', title='Desk Distribution', figsize=(12,6)).set(xlabel='Article Count')"
   ]
  },
  {
   "cell_type": "markdown",
   "metadata": {},
   "source": [
    "Remove minor classes.\n",
    "\n",
    "> For simplicity purposes I've just removed everything with sample size lower than 100, since these examples would hardly be predicted anyways. In a real world solution though this has to be checked with the business department and alternatives (such as gathering more data, yahoo!) must be considered. Besides, the Foreign class might be over predicted, and that's something we are going to see further on our confusion matrix!"
   ]
  },
  {
   "cell_type": "code",
   "execution_count": 5,
   "metadata": {},
   "outputs": [
    {
     "data": {
      "image/png": "[encoded data removed]",
      "text/plain": [
       "<Figure size 864x432 with 1 Axes>"
      ]
     },
     "metadata": {
      "needs_background": "light"
     },
     "output_type": "display_data"
    }
   ],
   "source": [
    "allowed_labels = df.news_desk.value_counts().where(lambda x: x > 100).dropna().index\n",
    "df = df[df.news_desk.isin(allowed_labels)]\n",
    "_ = df.news_desk.value_counts(ascending=True).plot(kind='barh', title='Desk Distribution', figsize=(12,6)).set(xlabel='Article Count')"
   ]
  },
  {
   "cell_type": "markdown",
   "metadata": {},
   "source": [
    "### Feature Engineering"
   ]
  },
  {
   "cell_type": "markdown",
   "metadata": {},
   "source": [
    "Extract features from text.\n",
    "\n",
    "> Before training our model we need to convert our text into something the Classifier can actually process. Since we're talking about machines here, nothing better than converting text into numbers! That's exactly what we do here with `TfidfVectorizer`. It follows the bag of words concept, which converts the whole corpus into a words dictionary and each document (or article in this case) gets transformed into a array of numbers signaling which words appeared on the text. This modeling is oversimplified though since it doesn't take into consideration the order of words, only it they happend or not."
   ]
  },
  {
   "cell_type": "code",
   "execution_count": 6,
   "metadata": {},
   "outputs": [
    {
     "data": {
      "text/plain": [
       "(20508, 18881)"
      ]
     },
     "execution_count": 6,
     "metadata": {},
     "output_type": "execute_result"
    }
   ],
   "source": [
    "df['news_desk_id'] = df.news_desk.factorize()[0]\n",
    "id_to_news_desk = df.set_index('news_desk_id')['news_desk'].to_dict()\n",
    "news_desk_to_id = {v: k for k, v in id_to_news_desk.items()}\n",
    "tfidf = TfidfVectorizer(sublinear_tf=True, min_df=3, norm='l2', encoding='latin-1', ngram_range=(1, 3), stop_words='english')\n",
    "features = tfidf.fit_transform(df.abstract).toarray()\n",
    "labels = df.news_desk_id\n",
    "features.shape"
   ]
  },
  {
   "cell_type": "markdown",
   "metadata": {},
   "source": [
    "Check Vectorizer result.\n",
    "\n",
    "> The result features from Vectorizer is a sparse matrix, have a look below. Nice! - There are indeed many zeros there... "
   ]
  },
  {
   "cell_type": "code",
   "execution_count": 81,
   "metadata": {},
   "outputs": [
    {
     "data": {
      "text/plain": [
       "array([[0., 0., 0., ..., 0., 0., 0.],\n",
       "       [0., 0., 0., ..., 0., 0., 0.],\n",
       "       [0., 0., 0., ..., 0., 0., 0.],\n",
       "       ...,\n",
       "       [0., 0., 0., ..., 0., 0., 0.],\n",
       "       [0., 0., 0., ..., 0., 0., 0.],\n",
       "       [0., 0., 0., ..., 0., 0., 0.]])"
      ]
     },
     "execution_count": 81,
     "metadata": {},
     "output_type": "execute_result"
    }
   ],
   "source": [
    "features"
   ]
  },
  {
   "cell_type": "markdown",
   "metadata": {},
   "source": [
    "Check correlation between words and classes.\n",
    "\n",
    "> Oh how I love statistics! Chi Squared methodology here enabled us to understadt which features (or tokens) have the higher correlation with each class. It's a good indication of how our model might perform when certain keywords appear on the text to predict."
   ]
  },
  {
   "cell_type": "code",
   "execution_count": 7,
   "metadata": {},
   "outputs": [
    {
     "data": {
      "text/html": [
       "<style  type=\"text/css\" >\n",
       "</style><table id=\"T_dab64ad0_cc59_11ea_8dda_988389d3b3ca\" ><caption>Most Correlated Tokens to Category</caption><thead>    <tr>        <th class=\"blank level0\" ></th>        <th class=\"col_heading level0 col0\" >1-grams</th>        <th class=\"col_heading level0 col1\" >2-grams</th>        <th class=\"col_heading level0 col2\" >3-grams</th>    </tr></thead><tbody>\n",
       "                <tr>\n",
       "                        <th id=\"T_dab64ad0_cc59_11ea_8dda_988389d3b3calevel0_row0\" class=\"row_heading level0 row0\" >Business</th>\n",
       "                        <td id=\"T_dab64ad0_cc59_11ea_8dda_988389d3b3carow0_col0\" class=\"data row0 col0\" >['business', 'companies', 'company']</td>\n",
       "                        <td id=\"T_dab64ad0_cc59_11ea_8dda_988389d3b3carow0_col1\" class=\"data row0 col1\" >['real estate', 'commercial real', 'stock market']</td>\n",
       "                        <td id=\"T_dab64ad0_cc59_11ea_8dda_988389d3b3carow0_col2\" class=\"data row0 col2\" >['recent commercial real', 'real estate transactions', 'commercial real estate']</td>\n",
       "            </tr>\n",
       "            <tr>\n",
       "                        <th id=\"T_dab64ad0_cc59_11ea_8dda_988389d3b3calevel0_row1\" class=\"row_heading level0 row1\" >Foreign</th>\n",
       "                        <td id=\"T_dab64ad0_cc59_11ea_8dda_988389d3b3carow1_col0\" class=\"data row1 col0\" >['country', 'prime', 'minister']</td>\n",
       "                        <td id=\"T_dab64ad0_cc59_11ea_8dda_988389d3b3carow1_col1\" class=\"data row1 col1\" >['european union', 'benjamin netanyahu', 'prime minister']</td>\n",
       "                        <td id=\"T_dab64ad0_cc59_11ea_8dda_988389d3b3carow1_col2\" class=\"data row1 col2\" >['president vladimir putin', 'prime minister benjamin', 'minister benjamin netanyahu']</td>\n",
       "            </tr>\n",
       "            <tr>\n",
       "                        <th id=\"T_dab64ad0_cc59_11ea_8dda_988389d3b3calevel0_row2\" class=\"row_heading level0 row2\" >Politics</th>\n",
       "                        <td id=\"T_dab64ad0_cc59_11ea_8dda_988389d3b3carow2_col0\" class=\"data row2 col0\" >['sanders', 'democratic', 'biden']</td>\n",
       "                        <td id=\"T_dab64ad0_cc59_11ea_8dda_988389d3b3carow2_col1\" class=\"data row2 col1\" >['tip sheet', 'mr biden', 'joe biden']</td>\n",
       "                        <td id=\"T_dab64ad0_cc59_11ea_8dda_988389d3b3carow2_col2\" class=\"data row2 col2\" >['democratic presidential candidates', 'joseph biden jr', 'morning tip sheet']</td>\n",
       "            </tr>\n",
       "            <tr>\n",
       "                        <th id=\"T_dab64ad0_cc59_11ea_8dda_988389d3b3calevel0_row3\" class=\"row_heading level0 row3\" >Science</th>\n",
       "                        <td id=\"T_dab64ad0_cc59_11ea_8dda_988389d3b3carow3_col0\" class=\"data row3 col0\" >['patients', 'study', 'scientists']</td>\n",
       "                        <td id=\"T_dab64ad0_cc59_11ea_8dda_988389d3b3carow3_col1\" class=\"data row3 col1\" >['study suggests', 'scientists say', 'new study']</td>\n",
       "                        <td id=\"T_dab64ad0_cc59_11ea_8dda_988389d3b3carow3_col2\" class=\"data row3 col2\" >['new study finds', 'food drug administration', 'new study suggests']</td>\n",
       "            </tr>\n",
       "            <tr>\n",
       "                        <th id=\"T_dab64ad0_cc59_11ea_8dda_988389d3b3calevel0_row4\" class=\"row_heading level0 row4\" >Sports</th>\n",
       "                        <td id=\"T_dab64ad0_cc59_11ea_8dda_988389d3b3carow4_col0\" class=\"data row4 col0\" >['players', 'league', 'team']</td>\n",
       "                        <td id=\"T_dab64ad0_cc59_11ea_8dda_988389d3b3carow4_col1\" class=\"data row4 col1\" >['grand slam', 'premier league', 'world cup']</td>\n",
       "                        <td id=\"T_dab64ad0_cc59_11ea_8dda_988389d3b3carow4_col2\" class=\"data row4 col2\" >['new england patriots', 'newsletter marc stein', 'week newsletter marc']</td>\n",
       "            </tr>\n",
       "            <tr>\n",
       "                        <th id=\"T_dab64ad0_cc59_11ea_8dda_988389d3b3calevel0_row5\" class=\"row_heading level0 row5\" >U.S.</th>\n",
       "                        <td id=\"T_dab64ad0_cc59_11ea_8dda_988389d3b3carow5_col0\" class=\"data row5 col0\" >['county', 'detailed', 'maps']</td>\n",
       "                        <td id=\"T_dab64ad0_cc59_11ea_8dda_988389d3b3carow5_col1\" class=\"data row5 col1\" >['shows extent', 'asked candidates', 'results maps']</td>\n",
       "                        <td id=\"T_dab64ad0_cc59_11ea_8dda_988389d3b3carow5_col2\" class=\"data row5 col2\" >['county map shows', 'extent coronavirus outbreak', 'shows extent coronavirus']</td>\n",
       "            </tr>\n",
       "    </tbody></table>"
      ],
      "text/plain": [
       "<pandas.io.formats.style.Styler at 0x2872ccfe388>"
      ]
     },
     "execution_count": 7,
     "metadata": {},
     "output_type": "execute_result"
    }
   ],
   "source": [
    "corr_df = get_most_correlated_tokens(features, labels, tfidf, news_desk_to_id, 3)\n",
    "corr_df.style.set_caption(\"Most Correlated Tokens to Category\")"
   ]
  },
  {
   "cell_type": "markdown",
   "metadata": {},
   "source": [
    "### Model Selection\n",
    "\n",
    "Train Naive Bayes classifier.\n",
    "\n",
    "> Finally we've achieve the moment to actually train a Machine Leraning model!! But let's take it easy hehe... We're starting with a probability classifier which uses the Bayes Theorem. Here it basically compounds each feature probabilty to infer the result considering their combination in a given test value. Let's see it in action!"
   ]
  },
  {
   "cell_type": "code",
   "execution_count": 8,
   "metadata": {},
   "outputs": [],
   "source": [
    "count_vect, clf = train_text_classifier(df, 'abstract', 'news_desk', MultinomialNB)"
   ]
  },
  {
   "cell_type": "markdown",
   "metadata": {},
   "source": [
    "Check results.\n",
    "\n",
    "> After training it we can play around with our first Text Classifier. For that I've taken some article news from NYT web site to see if it actually performs well. And a priori it sure does!"
   ]
  },
  {
   "cell_type": "code",
   "execution_count": 9,
   "metadata": {},
   "outputs": [
    {
     "name": "stdout",
     "output_type": "stream",
     "text": [
      "{'text': 'Russian historian jailed in sex abuse case', 'prediction': 'Foreign'}\n",
      "{'text': 'It’s time for the weirdest season of baseball in recent memory.', 'prediction': 'Sports'}\n"
     ]
    }
   ],
   "source": [
    "test_texts = [\n",
    "    \"Russian historian jailed in sex abuse case\",\n",
    "    \"It’s time for the weirdest season of baseball in recent memory.\"\n",
    "]\n",
    "\n",
    "for txt in test_texts:\n",
    "    print(predict_text(txt, clf, count_vect))"
   ]
  },
  {
   "cell_type": "markdown",
   "metadata": {},
   "source": [
    "### Model Selection"
   ]
  },
  {
   "cell_type": "markdown",
   "metadata": {},
   "source": [
    "Compare more models.\n",
    "\n",
    "> Should we be happy with our first trained model? Yes! And how about being satisfied with it? No! Before moving on we should definetly check if our model performs well in comparison to other algorithms. For that we use cross validation. That's what we have below. Apparantly LinearSVC is a good choice."
   ]
  },
  {
   "cell_type": "code",
   "execution_count": 12,
   "metadata": {},
   "outputs": [
    {
     "name": "stderr",
     "output_type": "stream",
     "text": [
      "100%|████████████████████████████████████████████████████████████████████████████████████| 4/4 [05:18<00:00, 79.62s/it]\n"
     ]
    },
    {
     "data": {
      "image/png": "[encoded data removed]",
      "text/plain": [
       "<Figure size 432x288 with 1 Axes>"
      ]
     },
     "metadata": {
      "needs_background": "light"
     },
     "output_type": "display_data"
    }
   ],
   "source": [
    "classifiers = [\n",
    "    LinearSVC(),\n",
    "    MultinomialNB(),\n",
    "    LogisticRegression(random_state=0, max_iter=150),\n",
    "    RandomForestClassifier(n_estimators=200, max_depth=3, random_state=0),\n",
    "]\n",
    "\n",
    "cv_df = compare_models(classifiers, features, labels, 3)"
   ]
  },
  {
   "cell_type": "markdown",
   "metadata": {},
   "source": [
    "### Model Evaluation"
   ]
  },
  {
   "cell_type": "markdown",
   "metadata": {},
   "source": [
    "Evaluate model predictions.\n",
    "\n",
    "> After choosing the best model, it's a good idea to check how well it performs in a greater detail. The confusion matrix is awesome for that! Here we compare predictions to actual values to check visually the best (and worst) performing classes. It looks like our Foreign class has in fact biased our model, since it has many word predictions specially from Business and Science... Maybe that due to familiar words in both contexts. "
   ]
  },
  {
   "cell_type": "code",
   "execution_count": 59,
   "metadata": {},
   "outputs": [
    {
     "data": {
      "image/png": "[encoded data removed]",
      "text/plain": [
       "<Figure size 720x576 with 2 Axes>"
      ]
     },
     "metadata": {
      "needs_background": "light"
     },
     "output_type": "display_data"
    }
   ],
   "source": [
    "model, c_matrix, y_test, y_pred, indices_test = plot_confusion_matrix(LinearSVC(), df, features, labels, news_desk_to_id)"
   ]
  },
  {
   "cell_type": "markdown",
   "metadata": {},
   "source": [
    "Check misstakes.\n",
    "\n",
    "> Here we can have a look on the wrong preditions and indeed some of them are misleading... See that mentions of China nd G-20 inside Business desk, I would personally guess it as Foreign in this case. Anyways, the proper conduct here is to check once again with the business department if these mistakes are acceptable. If not we should go back into gathering more data, choose different models or do hyper parameter tunning for improving it's performance. Nevertheless we're still lacking some hard numbers to tell how well our model performs... Let's have a look at that!"
   ]
  },
  {
   "cell_type": "code",
   "execution_count": 60,
   "metadata": {},
   "outputs": [
    {
     "name": "stdout",
     "output_type": "stream",
     "text": [
      "'Business' predicted as 'Foreign' : 206 examples.\n"
     ]
    },
    {
     "data": {
      "text/html": [
       "<div>\n",
       "<style scoped>\n",
       "    .dataframe tbody tr th:only-of-type {\n",
       "        vertical-align: middle;\n",
       "    }\n",
       "\n",
       "    .dataframe tbody tr th {\n",
       "        vertical-align: top;\n",
       "    }\n",
       "\n",
       "    .dataframe thead th {\n",
       "        text-align: right;\n",
       "    }\n",
       "</style>\n",
       "<table border=\"1\" class=\"dataframe\">\n",
       "  <thead>\n",
       "    <tr style=\"text-align: right;\">\n",
       "      <th></th>\n",
       "      <th>news_desk</th>\n",
       "      <th>abstract</th>\n",
       "    </tr>\n",
       "  </thead>\n",
       "  <tbody>\n",
       "    <tr>\n",
       "      <th>8275</th>\n",
       "      <td>Business</td>\n",
       "      <td>All eyes are on a pivotal meeting between President Trump and President Xi Jinping of China at the G-20.</td>\n",
       "    </tr>\n",
       "    <tr>\n",
       "      <th>12457</th>\n",
       "      <td>Business</td>\n",
       "      <td>One approach is a microgrid — creating a small power source that can keep the lights on in a small area when the main grid isn’t working.</td>\n",
       "    </tr>\n",
       "  </tbody>\n",
       "</table>\n",
       "</div>"
      ],
      "text/plain": [
       "      news_desk  \\\n",
       "8275   Business   \n",
       "12457  Business   \n",
       "\n",
       "                                                                                                                                        abstract  \n",
       "8275                                    All eyes are on a pivotal meeting between President Trump and President Xi Jinping of China at the G-20.  \n",
       "12457  One approach is a microgrid — creating a small power source that can keep the lights on in a small area when the main grid isn’t working.  "
      ]
     },
     "metadata": {},
     "output_type": "display_data"
    },
    {
     "name": "stdout",
     "output_type": "stream",
     "text": [
      "\n",
      "'Politics' predicted as 'Foreign' : 62 examples.\n"
     ]
    },
    {
     "data": {
      "text/html": [
       "<div>\n",
       "<style scoped>\n",
       "    .dataframe tbody tr th:only-of-type {\n",
       "        vertical-align: middle;\n",
       "    }\n",
       "\n",
       "    .dataframe tbody tr th {\n",
       "        vertical-align: top;\n",
       "    }\n",
       "\n",
       "    .dataframe thead th {\n",
       "        text-align: right;\n",
       "    }\n",
       "</style>\n",
       "<table border=\"1\" class=\"dataframe\">\n",
       "  <thead>\n",
       "    <tr style=\"text-align: right;\">\n",
       "      <th></th>\n",
       "      <th>news_desk</th>\n",
       "      <th>abstract</th>\n",
       "    </tr>\n",
       "  </thead>\n",
       "  <tbody>\n",
       "    <tr>\n",
       "      <th>9968</th>\n",
       "      <td>Politics</td>\n",
       "      <td>The Senate majority leader did not back the legislation, but he said the chamber would consider it when lawmakers come back into session next month.</td>\n",
       "    </tr>\n",
       "    <tr>\n",
       "      <th>16259</th>\n",
       "      <td>Politics</td>\n",
       "      <td>The 35-day stalemate sapped the president’s poll numbers and raised concern about his ability to navigate a divided government.</td>\n",
       "    </tr>\n",
       "  </tbody>\n",
       "</table>\n",
       "</div>"
      ],
      "text/plain": [
       "      news_desk  \\\n",
       "9968   Politics   \n",
       "16259  Politics   \n",
       "\n",
       "                                                                                                                                                   abstract  \n",
       "9968   The Senate majority leader did not back the legislation, but he said the chamber would consider it when lawmakers come back into session next month.  \n",
       "16259                       The 35-day stalemate sapped the president’s poll numbers and raised concern about his ability to navigate a divided government.  "
      ]
     },
     "metadata": {},
     "output_type": "display_data"
    },
    {
     "name": "stdout",
     "output_type": "stream",
     "text": [
      "\n",
      "'Science' predicted as 'Foreign' : 113 examples.\n"
     ]
    },
    {
     "data": {
      "text/html": [
       "<div>\n",
       "<style scoped>\n",
       "    .dataframe tbody tr th:only-of-type {\n",
       "        vertical-align: middle;\n",
       "    }\n",
       "\n",
       "    .dataframe tbody tr th {\n",
       "        vertical-align: top;\n",
       "    }\n",
       "\n",
       "    .dataframe thead th {\n",
       "        text-align: right;\n",
       "    }\n",
       "</style>\n",
       "<table border=\"1\" class=\"dataframe\">\n",
       "  <thead>\n",
       "    <tr style=\"text-align: right;\">\n",
       "      <th></th>\n",
       "      <th>news_desk</th>\n",
       "      <th>abstract</th>\n",
       "    </tr>\n",
       "  </thead>\n",
       "  <tbody>\n",
       "    <tr>\n",
       "      <th>16289</th>\n",
       "      <td>Science</td>\n",
       "      <td>The mysterious Denisovans may have occupied a cave in what is now Siberia for more than 250,000 years.</td>\n",
       "    </tr>\n",
       "    <tr>\n",
       "      <th>89</th>\n",
       "      <td>Science</td>\n",
       "      <td>The country is home to most of the world’s wild tigers, and wildlife authorities announced steps to protect them.</td>\n",
       "    </tr>\n",
       "  </tbody>\n",
       "</table>\n",
       "</div>"
      ],
      "text/plain": [
       "      news_desk  \\\n",
       "16289   Science   \n",
       "89      Science   \n",
       "\n",
       "                                                                                                                abstract  \n",
       "16289             The mysterious Denisovans may have occupied a cave in what is now Siberia for more than 250,000 years.  \n",
       "89     The country is home to most of the world’s wild tigers, and wildlife authorities announced steps to protect them.  "
      ]
     },
     "metadata": {},
     "output_type": "display_data"
    },
    {
     "name": "stdout",
     "output_type": "stream",
     "text": [
      "\n",
      "'Sports' predicted as 'Foreign' : 47 examples.\n"
     ]
    },
    {
     "data": {
      "text/html": [
       "<div>\n",
       "<style scoped>\n",
       "    .dataframe tbody tr th:only-of-type {\n",
       "        vertical-align: middle;\n",
       "    }\n",
       "\n",
       "    .dataframe tbody tr th {\n",
       "        vertical-align: top;\n",
       "    }\n",
       "\n",
       "    .dataframe thead th {\n",
       "        text-align: right;\n",
       "    }\n",
       "</style>\n",
       "<table border=\"1\" class=\"dataframe\">\n",
       "  <thead>\n",
       "    <tr style=\"text-align: right;\">\n",
       "      <th></th>\n",
       "      <th>news_desk</th>\n",
       "      <th>abstract</th>\n",
       "    </tr>\n",
       "  </thead>\n",
       "  <tbody>\n",
       "    <tr>\n",
       "      <th>21079</th>\n",
       "      <td>Sports</td>\n",
       "      <td>Climbers and the Nepalese government believe the recently exposed bodies are the result of global warming, which is rapidly melting the mountain’s glaciers.</td>\n",
       "    </tr>\n",
       "    <tr>\n",
       "      <th>8867</th>\n",
       "      <td>Sports</td>\n",
       "      <td>Police charged the former Yankee and Mets star after a traffic stop last month.</td>\n",
       "    </tr>\n",
       "  </tbody>\n",
       "</table>\n",
       "</div>"
      ],
      "text/plain": [
       "      news_desk  \\\n",
       "21079    Sports   \n",
       "8867     Sports   \n",
       "\n",
       "                                                                                                                                                           abstract  \n",
       "21079  Climbers and the Nepalese government believe the recently exposed bodies are the result of global warming, which is rapidly melting the mountain’s glaciers.  \n",
       "8867                                                                                Police charged the former Yankee and Mets star after a traffic stop last month.  "
      ]
     },
     "metadata": {},
     "output_type": "display_data"
    },
    {
     "name": "stdout",
     "output_type": "stream",
     "text": [
      "\n",
      "'U.S.' predicted as 'Foreign' : 25 examples.\n"
     ]
    },
    {
     "data": {
      "text/html": [
       "<div>\n",
       "<style scoped>\n",
       "    .dataframe tbody tr th:only-of-type {\n",
       "        vertical-align: middle;\n",
       "    }\n",
       "\n",
       "    .dataframe tbody tr th {\n",
       "        vertical-align: top;\n",
       "    }\n",
       "\n",
       "    .dataframe thead th {\n",
       "        text-align: right;\n",
       "    }\n",
       "</style>\n",
       "<table border=\"1\" class=\"dataframe\">\n",
       "  <thead>\n",
       "    <tr style=\"text-align: right;\">\n",
       "      <th></th>\n",
       "      <th>news_desk</th>\n",
       "      <th>abstract</th>\n",
       "    </tr>\n",
       "  </thead>\n",
       "  <tbody>\n",
       "    <tr>\n",
       "      <th>3873</th>\n",
       "      <td>U.S.</td>\n",
       "      <td>States that reopened early and relaxed social distancing restrictions may be contributing to the first pronounced increase in Covid-19 fatalities since April.</td>\n",
       "    </tr>\n",
       "    <tr>\n",
       "      <th>16546</th>\n",
       "      <td>U.S.</td>\n",
       "      <td>Every January, thousands of agricultural families come together for a 16-day celebration of Western heritage.</td>\n",
       "    </tr>\n",
       "  </tbody>\n",
       "</table>\n",
       "</div>"
      ],
      "text/plain": [
       "      news_desk  \\\n",
       "3873       U.S.   \n",
       "16546      U.S.   \n",
       "\n",
       "                                                                                                                                                             abstract  \n",
       "3873   States that reopened early and relaxed social distancing restrictions may be contributing to the first pronounced increase in Covid-19 fatalities since April.  \n",
       "16546                                                   Every January, thousands of agricultural families come together for a 16-day celebration of Western heritage.  "
      ]
     },
     "metadata": {},
     "output_type": "display_data"
    },
    {
     "name": "stdout",
     "output_type": "stream",
     "text": [
      "\n",
      "'Foreign' predicted as 'Business' : 144 examples.\n"
     ]
    },
    {
     "data": {
      "text/html": [
       "<div>\n",
       "<style scoped>\n",
       "    .dataframe tbody tr th:only-of-type {\n",
       "        vertical-align: middle;\n",
       "    }\n",
       "\n",
       "    .dataframe tbody tr th {\n",
       "        vertical-align: top;\n",
       "    }\n",
       "\n",
       "    .dataframe thead th {\n",
       "        text-align: right;\n",
       "    }\n",
       "</style>\n",
       "<table border=\"1\" class=\"dataframe\">\n",
       "  <thead>\n",
       "    <tr style=\"text-align: right;\">\n",
       "      <th></th>\n",
       "      <th>news_desk</th>\n",
       "      <th>abstract</th>\n",
       "    </tr>\n",
       "  </thead>\n",
       "  <tbody>\n",
       "    <tr>\n",
       "      <th>10114</th>\n",
       "      <td>Foreign</td>\n",
       "      <td>Whoever was responsible, experts say, the episode raised serious concerns about the state of Bulgaria’s cybersecurity.</td>\n",
       "    </tr>\n",
       "    <tr>\n",
       "      <th>16175</th>\n",
       "      <td>Foreign</td>\n",
       "      <td>A year after a dam burst killed at least 259 people, prosecutors accused company executives of covering up safety concerns.</td>\n",
       "    </tr>\n",
       "  </tbody>\n",
       "</table>\n",
       "</div>"
      ],
      "text/plain": [
       "      news_desk  \\\n",
       "10114   Foreign   \n",
       "16175   Foreign   \n",
       "\n",
       "                                                                                                                          abstract  \n",
       "10114       Whoever was responsible, experts say, the episode raised serious concerns about the state of Bulgaria’s cybersecurity.  \n",
       "16175  A year after a dam burst killed at least 259 people, prosecutors accused company executives of covering up safety concerns.  "
      ]
     },
     "metadata": {},
     "output_type": "display_data"
    },
    {
     "name": "stdout",
     "output_type": "stream",
     "text": [
      "\n",
      "'Politics' predicted as 'Business' : 58 examples.\n"
     ]
    },
    {
     "data": {
      "text/html": [
       "<div>\n",
       "<style scoped>\n",
       "    .dataframe tbody tr th:only-of-type {\n",
       "        vertical-align: middle;\n",
       "    }\n",
       "\n",
       "    .dataframe tbody tr th {\n",
       "        vertical-align: top;\n",
       "    }\n",
       "\n",
       "    .dataframe thead th {\n",
       "        text-align: right;\n",
       "    }\n",
       "</style>\n",
       "<table border=\"1\" class=\"dataframe\">\n",
       "  <thead>\n",
       "    <tr style=\"text-align: right;\">\n",
       "      <th></th>\n",
       "      <th>news_desk</th>\n",
       "      <th>abstract</th>\n",
       "    </tr>\n",
       "  </thead>\n",
       "  <tbody>\n",
       "    <tr>\n",
       "      <th>10576</th>\n",
       "      <td>Politics</td>\n",
       "      <td>The former investor is an unlikely populist. But he is spending his fortune to try and get money out of politics.</td>\n",
       "    </tr>\n",
       "    <tr>\n",
       "      <th>19962</th>\n",
       "      <td>Politics</td>\n",
       "      <td>Robert Mueller’s letter in March is another sign of anger toward Attorney General William Barr, whose initial statement let President Trump claim to have been vindicated.</td>\n",
       "    </tr>\n",
       "  </tbody>\n",
       "</table>\n",
       "</div>"
      ],
      "text/plain": [
       "      news_desk  \\\n",
       "10576  Politics   \n",
       "19962  Politics   \n",
       "\n",
       "                                                                                                                                                                         abstract  \n",
       "10576                                                           The former investor is an unlikely populist. But he is spending his fortune to try and get money out of politics.  \n",
       "19962  Robert Mueller’s letter in March is another sign of anger toward Attorney General William Barr, whose initial statement let President Trump claim to have been vindicated.  "
      ]
     },
     "metadata": {},
     "output_type": "display_data"
    },
    {
     "name": "stdout",
     "output_type": "stream",
     "text": [
      "\n",
      "'Science' predicted as 'Business' : 76 examples.\n"
     ]
    },
    {
     "data": {
      "text/html": [
       "<div>\n",
       "<style scoped>\n",
       "    .dataframe tbody tr th:only-of-type {\n",
       "        vertical-align: middle;\n",
       "    }\n",
       "\n",
       "    .dataframe tbody tr th {\n",
       "        vertical-align: top;\n",
       "    }\n",
       "\n",
       "    .dataframe thead th {\n",
       "        text-align: right;\n",
       "    }\n",
       "</style>\n",
       "<table border=\"1\" class=\"dataframe\">\n",
       "  <thead>\n",
       "    <tr style=\"text-align: right;\">\n",
       "      <th></th>\n",
       "      <th>news_desk</th>\n",
       "      <th>abstract</th>\n",
       "    </tr>\n",
       "  </thead>\n",
       "  <tbody>\n",
       "    <tr>\n",
       "      <th>6725</th>\n",
       "      <td>Science</td>\n",
       "      <td>It’s likely you can, at least for some period of time. That is opening new opportunities for testing and treatment.</td>\n",
       "    </tr>\n",
       "    <tr>\n",
       "      <th>1514</th>\n",
       "      <td>Science</td>\n",
       "      <td>This is what happens when atmospheric chemists hang towels on drying racks around their chemistry building.</td>\n",
       "    </tr>\n",
       "  </tbody>\n",
       "</table>\n",
       "</div>"
      ],
      "text/plain": [
       "     news_desk  \\\n",
       "6725   Science   \n",
       "1514   Science   \n",
       "\n",
       "                                                                                                                 abstract  \n",
       "6725  It’s likely you can, at least for some period of time. That is opening new opportunities for testing and treatment.  \n",
       "1514          This is what happens when atmospheric chemists hang towels on drying racks around their chemistry building.  "
      ]
     },
     "metadata": {},
     "output_type": "display_data"
    },
    {
     "name": "stdout",
     "output_type": "stream",
     "text": [
      "\n",
      "'Sports' predicted as 'Business' : 38 examples.\n"
     ]
    },
    {
     "data": {
      "text/html": [
       "<div>\n",
       "<style scoped>\n",
       "    .dataframe tbody tr th:only-of-type {\n",
       "        vertical-align: middle;\n",
       "    }\n",
       "\n",
       "    .dataframe tbody tr th {\n",
       "        vertical-align: top;\n",
       "    }\n",
       "\n",
       "    .dataframe thead th {\n",
       "        text-align: right;\n",
       "    }\n",
       "</style>\n",
       "<table border=\"1\" class=\"dataframe\">\n",
       "  <thead>\n",
       "    <tr style=\"text-align: right;\">\n",
       "      <th></th>\n",
       "      <th>news_desk</th>\n",
       "      <th>abstract</th>\n",
       "    </tr>\n",
       "  </thead>\n",
       "  <tbody>\n",
       "    <tr>\n",
       "      <th>14599</th>\n",
       "      <td>Sports</td>\n",
       "      <td>After forcing his way out of Miami, Minkah Fitzpatrick has powered the Steelers’ surprising surge into contention.</td>\n",
       "    </tr>\n",
       "    <tr>\n",
       "      <th>5153</th>\n",
       "      <td>Sports</td>\n",
       "      <td>A forensic audit of Russia’s antidoping agency has suggested former officials funneled money to companies they controlled.</td>\n",
       "    </tr>\n",
       "  </tbody>\n",
       "</table>\n",
       "</div>"
      ],
      "text/plain": [
       "      news_desk  \\\n",
       "14599    Sports   \n",
       "5153     Sports   \n",
       "\n",
       "                                                                                                                         abstract  \n",
       "14599          After forcing his way out of Miami, Minkah Fitzpatrick has powered the Steelers’ surprising surge into contention.  \n",
       "5153   A forensic audit of Russia’s antidoping agency has suggested former officials funneled money to companies they controlled.  "
      ]
     },
     "metadata": {},
     "output_type": "display_data"
    },
    {
     "name": "stdout",
     "output_type": "stream",
     "text": [
      "\n",
      "'U.S.' predicted as 'Business' : 15 examples.\n"
     ]
    },
    {
     "data": {
      "text/html": [
       "<div>\n",
       "<style scoped>\n",
       "    .dataframe tbody tr th:only-of-type {\n",
       "        vertical-align: middle;\n",
       "    }\n",
       "\n",
       "    .dataframe tbody tr th {\n",
       "        vertical-align: top;\n",
       "    }\n",
       "\n",
       "    .dataframe thead th {\n",
       "        text-align: right;\n",
       "    }\n",
       "</style>\n",
       "<table border=\"1\" class=\"dataframe\">\n",
       "  <thead>\n",
       "    <tr style=\"text-align: right;\">\n",
       "      <th></th>\n",
       "      <th>news_desk</th>\n",
       "      <th>abstract</th>\n",
       "    </tr>\n",
       "  </thead>\n",
       "  <tbody>\n",
       "    <tr>\n",
       "      <th>1227</th>\n",
       "      <td>U.S.</td>\n",
       "      <td>More than 300 dams in the state are classified as having the potential to cause loss of life or economic and environmental damage in the case of a failure, according to the U.S. Army Corps of Engineers.</td>\n",
       "    </tr>\n",
       "    <tr>\n",
       "      <th>11628</th>\n",
       "      <td>U.S.</td>\n",
       "      <td>Mass shootings came one after another, sometimes only hours apart, leaving a reeling nation wondering why.</td>\n",
       "    </tr>\n",
       "  </tbody>\n",
       "</table>\n",
       "</div>"
      ],
      "text/plain": [
       "      news_desk  \\\n",
       "1227       U.S.   \n",
       "11628      U.S.   \n",
       "\n",
       "                                                                                                                                                                                                         abstract  \n",
       "1227   More than 300 dams in the state are classified as having the potential to cause loss of life or economic and environmental damage in the case of a failure, according to the U.S. Army Corps of Engineers.  \n",
       "11628                                                                                                  Mass shootings came one after another, sometimes only hours apart, leaving a reeling nation wondering why.  "
      ]
     },
     "metadata": {},
     "output_type": "display_data"
    },
    {
     "name": "stdout",
     "output_type": "stream",
     "text": [
      "\n",
      "'Foreign' predicted as 'Politics' : 18 examples.\n"
     ]
    },
    {
     "data": {
      "text/html": [
       "<div>\n",
       "<style scoped>\n",
       "    .dataframe tbody tr th:only-of-type {\n",
       "        vertical-align: middle;\n",
       "    }\n",
       "\n",
       "    .dataframe tbody tr th {\n",
       "        vertical-align: top;\n",
       "    }\n",
       "\n",
       "    .dataframe thead th {\n",
       "        text-align: right;\n",
       "    }\n",
       "</style>\n",
       "<table border=\"1\" class=\"dataframe\">\n",
       "  <thead>\n",
       "    <tr style=\"text-align: right;\">\n",
       "      <th></th>\n",
       "      <th>news_desk</th>\n",
       "      <th>abstract</th>\n",
       "    </tr>\n",
       "  </thead>\n",
       "  <tbody>\n",
       "    <tr>\n",
       "      <th>821</th>\n",
       "      <td>Foreign</td>\n",
       "      <td>Chen Chien-jen has embraced a rare dual role, using his political authority as vice president to criticize China’s response to the virus even as he hunkers down to analyze trends in transmission.</td>\n",
       "    </tr>\n",
       "    <tr>\n",
       "      <th>8550</th>\n",
       "      <td>Foreign</td>\n",
       "      <td>Mr. Sigley, whose family raised alarms last week after losing contact with him, declined to say on Thursday why he had been detained.</td>\n",
       "    </tr>\n",
       "  </tbody>\n",
       "</table>\n",
       "</div>"
      ],
      "text/plain": [
       "     news_desk  \\\n",
       "821    Foreign   \n",
       "8550   Foreign   \n",
       "\n",
       "                                                                                                                                                                                                 abstract  \n",
       "821   Chen Chien-jen has embraced a rare dual role, using his political authority as vice president to criticize China’s response to the virus even as he hunkers down to analyze trends in transmission.  \n",
       "8550                                                                Mr. Sigley, whose family raised alarms last week after losing contact with him, declined to say on Thursday why he had been detained.  "
      ]
     },
     "metadata": {},
     "output_type": "display_data"
    },
    {
     "name": "stdout",
     "output_type": "stream",
     "text": [
      "\n",
      "'Business' predicted as 'Politics' : 45 examples.\n"
     ]
    },
    {
     "data": {
      "text/html": [
       "<div>\n",
       "<style scoped>\n",
       "    .dataframe tbody tr th:only-of-type {\n",
       "        vertical-align: middle;\n",
       "    }\n",
       "\n",
       "    .dataframe tbody tr th {\n",
       "        vertical-align: top;\n",
       "    }\n",
       "\n",
       "    .dataframe thead th {\n",
       "        text-align: right;\n",
       "    }\n",
       "</style>\n",
       "<table border=\"1\" class=\"dataframe\">\n",
       "  <thead>\n",
       "    <tr style=\"text-align: right;\">\n",
       "      <th></th>\n",
       "      <th>news_desk</th>\n",
       "      <th>abstract</th>\n",
       "    </tr>\n",
       "  </thead>\n",
       "  <tbody>\n",
       "    <tr>\n",
       "      <th>12643</th>\n",
       "      <td>Business</td>\n",
       "      <td>Several candidates criticized Senator Elizabeth Warren’s health care proposal and backed proposals to impose big taxes on the wealthy.</td>\n",
       "    </tr>\n",
       "    <tr>\n",
       "      <th>14677</th>\n",
       "      <td>Business</td>\n",
       "      <td>A coal town in southwestern Virginia has been trying for years. Hope is running thin.</td>\n",
       "    </tr>\n",
       "  </tbody>\n",
       "</table>\n",
       "</div>"
      ],
      "text/plain": [
       "      news_desk  \\\n",
       "12643  Business   \n",
       "14677  Business   \n",
       "\n",
       "                                                                                                                                     abstract  \n",
       "12643  Several candidates criticized Senator Elizabeth Warren’s health care proposal and backed proposals to impose big taxes on the wealthy.  \n",
       "14677                                                   A coal town in southwestern Virginia has been trying for years. Hope is running thin.  "
      ]
     },
     "metadata": {},
     "output_type": "display_data"
    },
    {
     "name": "stdout",
     "output_type": "stream",
     "text": [
      "\n",
      "'U.S.' predicted as 'Politics' : 31 examples.\n"
     ]
    },
    {
     "data": {
      "text/html": [
       "<div>\n",
       "<style scoped>\n",
       "    .dataframe tbody tr th:only-of-type {\n",
       "        vertical-align: middle;\n",
       "    }\n",
       "\n",
       "    .dataframe tbody tr th {\n",
       "        vertical-align: top;\n",
       "    }\n",
       "\n",
       "    .dataframe thead th {\n",
       "        text-align: right;\n",
       "    }\n",
       "</style>\n",
       "<table border=\"1\" class=\"dataframe\">\n",
       "  <thead>\n",
       "    <tr style=\"text-align: right;\">\n",
       "      <th></th>\n",
       "      <th>news_desk</th>\n",
       "      <th>abstract</th>\n",
       "    </tr>\n",
       "  </thead>\n",
       "  <tbody>\n",
       "    <tr>\n",
       "      <th>15997</th>\n",
       "      <td>U.S.</td>\n",
       "      <td>Senators Elizabeth Warren and Bernie Sanders led the stage of six candidates.</td>\n",
       "    </tr>\n",
       "    <tr>\n",
       "      <th>9615</th>\n",
       "      <td>U.S.</td>\n",
       "      <td>See which candidates spoke the most and which candidates disagreed over policy.</td>\n",
       "    </tr>\n",
       "  </tbody>\n",
       "</table>\n",
       "</div>"
      ],
      "text/plain": [
       "      news_desk  \\\n",
       "15997      U.S.   \n",
       "9615       U.S.   \n",
       "\n",
       "                                                                              abstract  \n",
       "15997    Senators Elizabeth Warren and Bernie Sanders led the stage of six candidates.  \n",
       "9615   See which candidates spoke the most and which candidates disagreed over policy.  "
      ]
     },
     "metadata": {},
     "output_type": "display_data"
    },
    {
     "name": "stdout",
     "output_type": "stream",
     "text": [
      "\n",
      "'Foreign' predicted as 'Science' : 58 examples.\n"
     ]
    },
    {
     "data": {
      "text/html": [
       "<div>\n",
       "<style scoped>\n",
       "    .dataframe tbody tr th:only-of-type {\n",
       "        vertical-align: middle;\n",
       "    }\n",
       "\n",
       "    .dataframe tbody tr th {\n",
       "        vertical-align: top;\n",
       "    }\n",
       "\n",
       "    .dataframe thead th {\n",
       "        text-align: right;\n",
       "    }\n",
       "</style>\n",
       "<table border=\"1\" class=\"dataframe\">\n",
       "  <thead>\n",
       "    <tr style=\"text-align: right;\">\n",
       "      <th></th>\n",
       "      <th>news_desk</th>\n",
       "      <th>abstract</th>\n",
       "    </tr>\n",
       "  </thead>\n",
       "  <tbody>\n",
       "    <tr>\n",
       "      <th>12140</th>\n",
       "      <td>Foreign</td>\n",
       "      <td>Zarifa Ghafari expects to die in office. But in the meantime, she intends to do something about the litter problem.</td>\n",
       "    </tr>\n",
       "    <tr>\n",
       "      <th>2259</th>\n",
       "      <td>Foreign</td>\n",
       "      <td>He caught a break this week, flustering his Labour opponent in Parliament and glorying in British researchers’ discovery of an effective treatment drug against Covid-19 symptoms.</td>\n",
       "    </tr>\n",
       "  </tbody>\n",
       "</table>\n",
       "</div>"
      ],
      "text/plain": [
       "      news_desk  \\\n",
       "12140   Foreign   \n",
       "2259    Foreign   \n",
       "\n",
       "                                                                                                                                                                                 abstract  \n",
       "12140                                                                 Zarifa Ghafari expects to die in office. But in the meantime, she intends to do something about the litter problem.  \n",
       "2259   He caught a break this week, flustering his Labour opponent in Parliament and glorying in British researchers’ discovery of an effective treatment drug against Covid-19 symptoms.  "
      ]
     },
     "metadata": {},
     "output_type": "display_data"
    },
    {
     "name": "stdout",
     "output_type": "stream",
     "text": [
      "\n",
      "'Business' predicted as 'Science' : 39 examples.\n"
     ]
    },
    {
     "data": {
      "text/html": [
       "<div>\n",
       "<style scoped>\n",
       "    .dataframe tbody tr th:only-of-type {\n",
       "        vertical-align: middle;\n",
       "    }\n",
       "\n",
       "    .dataframe tbody tr th {\n",
       "        vertical-align: top;\n",
       "    }\n",
       "\n",
       "    .dataframe thead th {\n",
       "        text-align: right;\n",
       "    }\n",
       "</style>\n",
       "<table border=\"1\" class=\"dataframe\">\n",
       "  <thead>\n",
       "    <tr style=\"text-align: right;\">\n",
       "      <th></th>\n",
       "      <th>news_desk</th>\n",
       "      <th>abstract</th>\n",
       "    </tr>\n",
       "  </thead>\n",
       "  <tbody>\n",
       "    <tr>\n",
       "      <th>8305</th>\n",
       "      <td>Business</td>\n",
       "      <td>A survey finds that voters think the trade measures will be bad for the United States, and that even most Republicans say they will lead to higher prices.</td>\n",
       "    </tr>\n",
       "    <tr>\n",
       "      <th>4833</th>\n",
       "      <td>Business</td>\n",
       "      <td>The Dart Container Corporation, which makes foam products, is a manufacturing behemoth and produced a fortune for the family behind it. Environmentalists say its products are polluting the globe.</td>\n",
       "    </tr>\n",
       "  </tbody>\n",
       "</table>\n",
       "</div>"
      ],
      "text/plain": [
       "     news_desk  \\\n",
       "8305  Business   \n",
       "4833  Business   \n",
       "\n",
       "                                                                                                                                                                                                 abstract  \n",
       "8305                                           A survey finds that voters think the trade measures will be bad for the United States, and that even most Republicans say they will lead to higher prices.  \n",
       "4833  The Dart Container Corporation, which makes foam products, is a manufacturing behemoth and produced a fortune for the family behind it. Environmentalists say its products are polluting the globe.  "
      ]
     },
     "metadata": {},
     "output_type": "display_data"
    },
    {
     "name": "stdout",
     "output_type": "stream",
     "text": [
      "\n",
      "'Foreign' predicted as 'Sports' : 38 examples.\n"
     ]
    },
    {
     "data": {
      "text/html": [
       "<div>\n",
       "<style scoped>\n",
       "    .dataframe tbody tr th:only-of-type {\n",
       "        vertical-align: middle;\n",
       "    }\n",
       "\n",
       "    .dataframe tbody tr th {\n",
       "        vertical-align: top;\n",
       "    }\n",
       "\n",
       "    .dataframe thead th {\n",
       "        text-align: right;\n",
       "    }\n",
       "</style>\n",
       "<table border=\"1\" class=\"dataframe\">\n",
       "  <thead>\n",
       "    <tr style=\"text-align: right;\">\n",
       "      <th></th>\n",
       "      <th>news_desk</th>\n",
       "      <th>abstract</th>\n",
       "    </tr>\n",
       "  </thead>\n",
       "  <tbody>\n",
       "    <tr>\n",
       "      <th>14658</th>\n",
       "      <td>Foreign</td>\n",
       "      <td>A headline alongside photos of two black players in the Corriere dello Sport brought new condemnations of racism in Italy. The newspaper said it had suffered a “lynching.”</td>\n",
       "    </tr>\n",
       "    <tr>\n",
       "      <th>5071</th>\n",
       "      <td>Foreign</td>\n",
       "      <td>Fast on the heels of another big storm, Dennis has caused flooding and misery for the second straight weekend.</td>\n",
       "    </tr>\n",
       "  </tbody>\n",
       "</table>\n",
       "</div>"
      ],
      "text/plain": [
       "      news_desk  \\\n",
       "14658   Foreign   \n",
       "5071    Foreign   \n",
       "\n",
       "                                                                                                                                                                          abstract  \n",
       "14658  A headline alongside photos of two black players in the Corriere dello Sport brought new condemnations of racism in Italy. The newspaper said it had suffered a “lynching.”  \n",
       "5071                                                                Fast on the heels of another big storm, Dennis has caused flooding and misery for the second straight weekend.  "
      ]
     },
     "metadata": {},
     "output_type": "display_data"
    },
    {
     "name": "stdout",
     "output_type": "stream",
     "text": [
      "\n",
      "'Business' predicted as 'Sports' : 30 examples.\n"
     ]
    },
    {
     "data": {
      "text/html": [
       "<div>\n",
       "<style scoped>\n",
       "    .dataframe tbody tr th:only-of-type {\n",
       "        vertical-align: middle;\n",
       "    }\n",
       "\n",
       "    .dataframe tbody tr th {\n",
       "        vertical-align: top;\n",
       "    }\n",
       "\n",
       "    .dataframe thead th {\n",
       "        text-align: right;\n",
       "    }\n",
       "</style>\n",
       "<table border=\"1\" class=\"dataframe\">\n",
       "  <thead>\n",
       "    <tr style=\"text-align: right;\">\n",
       "      <th></th>\n",
       "      <th>news_desk</th>\n",
       "      <th>abstract</th>\n",
       "    </tr>\n",
       "  </thead>\n",
       "  <tbody>\n",
       "    <tr>\n",
       "      <th>16189</th>\n",
       "      <td>Business</td>\n",
       "      <td>Ford Motor is transforming the long-vacant Michigan Central Station, part of the city’s overall resurgence.</td>\n",
       "    </tr>\n",
       "    <tr>\n",
       "      <th>3161</th>\n",
       "      <td>Business</td>\n",
       "      <td>Put through its paces on a motor club’s racetrack, the 2021 Porsche 911 Turbo S growls with a gaudy 640 horsepower and handling that lets even amateur drivers feel like superheroes.</td>\n",
       "    </tr>\n",
       "  </tbody>\n",
       "</table>\n",
       "</div>"
      ],
      "text/plain": [
       "      news_desk  \\\n",
       "16189  Business   \n",
       "3161   Business   \n",
       "\n",
       "                                                                                                                                                                                    abstract  \n",
       "16189                                                                            Ford Motor is transforming the long-vacant Michigan Central Station, part of the city’s overall resurgence.  \n",
       "3161   Put through its paces on a motor club’s racetrack, the 2021 Porsche 911 Turbo S growls with a gaudy 640 horsepower and handling that lets even amateur drivers feel like superheroes.  "
      ]
     },
     "metadata": {},
     "output_type": "display_data"
    },
    {
     "name": "stdout",
     "output_type": "stream",
     "text": [
      "\n",
      "'Politics' predicted as 'Sports' : 15 examples.\n"
     ]
    },
    {
     "data": {
      "text/html": [
       "<div>\n",
       "<style scoped>\n",
       "    .dataframe tbody tr th:only-of-type {\n",
       "        vertical-align: middle;\n",
       "    }\n",
       "\n",
       "    .dataframe tbody tr th {\n",
       "        vertical-align: top;\n",
       "    }\n",
       "\n",
       "    .dataframe thead th {\n",
       "        text-align: right;\n",
       "    }\n",
       "</style>\n",
       "<table border=\"1\" class=\"dataframe\">\n",
       "  <thead>\n",
       "    <tr style=\"text-align: right;\">\n",
       "      <th></th>\n",
       "      <th>news_desk</th>\n",
       "      <th>abstract</th>\n",
       "    </tr>\n",
       "  </thead>\n",
       "  <tbody>\n",
       "    <tr>\n",
       "      <th>5453</th>\n",
       "      <td>Politics</td>\n",
       "      <td>Getting into one of the Democratic debates is like getting a ticket to the Super Bowl or the World Series.</td>\n",
       "    </tr>\n",
       "    <tr>\n",
       "      <th>1118</th>\n",
       "      <td>Politics</td>\n",
       "      <td>He isn’t yet the pop culture star that Ruth Bader Ginsburg — “Notorious R.B.G.” to many — is. But his fans think he could be.</td>\n",
       "    </tr>\n",
       "  </tbody>\n",
       "</table>\n",
       "</div>"
      ],
      "text/plain": [
       "     news_desk  \\\n",
       "5453  Politics   \n",
       "1118  Politics   \n",
       "\n",
       "                                                                                                                           abstract  \n",
       "5453                     Getting into one of the Democratic debates is like getting a ticket to the Super Bowl or the World Series.  \n",
       "1118  He isn’t yet the pop culture star that Ruth Bader Ginsburg — “Notorious R.B.G.” to many — is. But his fans think he could be.  "
      ]
     },
     "metadata": {},
     "output_type": "display_data"
    },
    {
     "name": "stdout",
     "output_type": "stream",
     "text": [
      "\n",
      "'Science' predicted as 'Sports' : 16 examples.\n"
     ]
    },
    {
     "data": {
      "text/html": [
       "<div>\n",
       "<style scoped>\n",
       "    .dataframe tbody tr th:only-of-type {\n",
       "        vertical-align: middle;\n",
       "    }\n",
       "\n",
       "    .dataframe tbody tr th {\n",
       "        vertical-align: top;\n",
       "    }\n",
       "\n",
       "    .dataframe thead th {\n",
       "        text-align: right;\n",
       "    }\n",
       "</style>\n",
       "<table border=\"1\" class=\"dataframe\">\n",
       "  <thead>\n",
       "    <tr style=\"text-align: right;\">\n",
       "      <th></th>\n",
       "      <th>news_desk</th>\n",
       "      <th>abstract</th>\n",
       "    </tr>\n",
       "  </thead>\n",
       "  <tbody>\n",
       "    <tr>\n",
       "      <th>9184</th>\n",
       "      <td>Science</td>\n",
       "      <td>On Sunday night, The Times presents a play, built from the words of the men and women who made the Apollo missions happen.</td>\n",
       "    </tr>\n",
       "    <tr>\n",
       "      <th>9233</th>\n",
       "      <td>Science</td>\n",
       "      <td>Even when older plaintiffs win their suits, correcting institutional biases can take years.</td>\n",
       "    </tr>\n",
       "  </tbody>\n",
       "</table>\n",
       "</div>"
      ],
      "text/plain": [
       "     news_desk  \\\n",
       "9184   Science   \n",
       "9233   Science   \n",
       "\n",
       "                                                                                                                        abstract  \n",
       "9184  On Sunday night, The Times presents a play, built from the words of the men and women who made the Apollo missions happen.  \n",
       "9233                                 Even when older plaintiffs win their suits, correcting institutional biases can take years.  "
      ]
     },
     "metadata": {},
     "output_type": "display_data"
    },
    {
     "name": "stdout",
     "output_type": "stream",
     "text": [
      "\n"
     ]
    }
   ],
   "source": [
    "plot_prediction_mistakes(df, y_pred, y_test, id_to_news_desk, c_matrix, indices_test)"
   ]
  },
  {
   "cell_type": "markdown",
   "metadata": {},
   "source": [
    "Check classification report.\n",
    "\n",
    "> Last step is to calculate the model metrics, here it's possible to check precision (false positive rate), recall (false negative rate), f1-score (harmonic mean of precision and recall) and accuracy (true predicitions divided by all observations) for each class. It looks like the model performs fairly well with 83% accuracy in average, though there are some weak points at Science desk (with lowess precision and second lowest recall), and US as well (lowest recall). Maybe it's time to gather more data for these specific fields, or check if they are necessary at well (again with the business felows!)."
   ]
  },
  {
   "cell_type": "code",
   "execution_count": 63,
   "metadata": {},
   "outputs": [
    {
     "name": "stdout",
     "output_type": "stream",
     "text": [
      "              precision    recall  f1-score   support\n",
      "\n",
      "     Foreign       0.81      0.88      0.84      2175\n",
      "    Business       0.81      0.82      0.82      1778\n",
      "    Politics       0.87      0.83      0.85       870\n",
      "     Science       0.77      0.64      0.70       591\n",
      "      Sports       0.91      0.91      0.91      1172\n",
      "        U.S.       0.90      0.58      0.70       182\n",
      "\n",
      "    accuracy                           0.83      6768\n",
      "   macro avg       0.85      0.78      0.80      6768\n",
      "weighted avg       0.84      0.83      0.83      6768\n",
      "\n"
     ]
    }
   ],
   "source": [
    "print(metrics.classification_report(y_test, y_pred, target_names=df['news_desk'].unique()))"
   ]
  },
  {
   "cell_type": "markdown",
   "metadata": {},
   "source": [
    "### Model Export"
   ]
  },
  {
   "cell_type": "markdown",
   "metadata": {},
   "source": [
    "Export data.\n",
    "\n",
    "> Exporting models for later reproduction is a must! Specially here since we're gonna wrap it inside an API so it can be available on an endpoint. "
   ]
  },
  {
   "cell_type": "code",
   "execution_count": 96,
   "metadata": {},
   "outputs": [
    {
     "data": {
      "text/plain": [
       "['c:\\\\users\\\\muril\\\\documents\\\\github\\\\newspapers-text-mining\\\\models\\\\id_to_news_desk.sav']"
      ]
     },
     "execution_count": 96,
     "metadata": {},
     "output_type": "execute_result"
    }
   ],
   "source": [
    "joblib.dump(model, LOCAL_MODELS_PATH / 'model.sav')\n",
    "joblib.dump(tfidf, LOCAL_MODELS_PATH / 'tfidf.sav')\n",
    "joblib.dump(id_to_news_desk, LOCAL_MODELS_PATH / 'id_to_news_desk.sav')"
   ]
  }
 ],
 "metadata": {
  "kernelspec": {
   "display_name": "Python 3",
   "language": "python",
   "name": "python3"
  },
  "language_info": {
   "codemirror_mode": {
    "name": "ipython",
    "version": 3
   },
   "file_extension": ".py",
   "mimetype": "text/x-python",
   "name": "python",
   "nbconvert_exporter": "python",
   "pygments_lexer": "ipython3",
   "version": "3.7.7"
  }
 },
 "nbformat": 4,
 "nbformat_minor": 4
}
