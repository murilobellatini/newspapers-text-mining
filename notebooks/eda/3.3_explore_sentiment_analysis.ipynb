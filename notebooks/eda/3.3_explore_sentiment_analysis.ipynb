{
 "cells": [
  {
   "cell_type": "markdown",
   "metadata": {},
   "source": [
    "# Exploratory Data Analysis\n",
    "\n",
    "## New York Time Articles - Sentiment Analysis\n",
    "\n",
    "### Goal of this notebook\n",
    "\n",
    "> Extract sentiment from text and look for trends amongst articles and for the NYT as an organization."
   ]
  },
  {
   "cell_type": "markdown",
   "metadata": {},
   "source": [
    "### Sentiment Analysis"
   ]
  },
  {
   "cell_type": "markdown",
   "metadata": {},
   "source": [
    "Import libraries."
   ]
  },
  {
   "cell_type": "code",
   "execution_count": 50,
   "metadata": {},
   "outputs": [],
   "source": [
    "import numpy as np\n",
    "import pandas as pd\n",
    "import seaborn as sns\n",
    "from tqdm import tqdm\n",
    "from textblob import TextBlob\n",
    "import matplotlib.pyplot as plt\n",
    "from src.paths import LOCAL_INTERIM_DATA_PATH\n",
    "from src.visualization.Plotter import show_wordcloud\n",
    "from src.processing.IOController import load_normalized_nyt_df\n",
    "from src.processing.DataFrameManipulator import breakdown_cat_distribution\n",
    "tqdm.pandas()\n",
    "pd.options.display.max_colwidth=300"
   ]
  },
  {
   "cell_type": "markdown",
   "metadata": {},
   "source": [
    "Load dataset."
   ]
  },
  {
   "cell_type": "code",
   "execution_count": 419,
   "metadata": {},
   "outputs": [],
   "source": [
    "df = load_normalized_nyt_df(LOCAL_INTERIM_DATA_PATH / 'nyt-articles-consolidated.csv')"
   ]
  },
  {
   "cell_type": "markdown",
   "metadata": {},
   "source": [
    "Extract sentiment.\n",
    "\n",
    "> Ideally a sentiment analysis should be done with a trained classifier with the same context as the dataset to predict. But again for simplicities purpouses we're taking a shortcut with a well known Python library, TextBlob. It has a pre-trained model which can be used for preliminary analysis. Let's first extract sentiment and store it into two usefull columns, `sentiment.polarity` (positive/negative) and `subjectivity` (objective/subjective)."
   ]
  },
  {
   "cell_type": "code",
   "execution_count": 311,
   "metadata": {},
   "outputs": [],
   "source": [
    "df['abstract_sentiment'] = df.abstract.astype(str).progress_apply(lambda x: TextBlob(x).sentiment)\n",
    "df['sentiment.polarity'] = df['abstract_sentiment'].apply(lambda x: x[0])\n",
    "df['sentiment.subjectivity'] = df['abstract_sentiment'].apply(lambda x: x[1])"
   ]
  },
  {
   "cell_type": "markdown",
   "metadata": {},
   "source": [
    "Check sentiment polarity distribution.\n",
    "\n",
    "> I would expect more neutral sentiment on a newspapers, but here we can see that that the average gravitates a little bit over neutral with 0.06 and standard deviation of 0.21. Looking at the boxplot below there's a more intuitive approach of the analysis."
   ]
  },
  {
   "cell_type": "code",
   "execution_count": 434,
   "metadata": {},
   "outputs": [
    {
     "data": {
      "text/plain": [
       "count    21116.000000\n",
       "mean         0.061884\n",
       "std          0.214532\n",
       "min         -1.000000\n",
       "25%          0.000000\n",
       "50%          0.000000\n",
       "75%          0.166667\n",
       "max          1.000000\n",
       "Name: sentiment.polarity, dtype: float64"
      ]
     },
     "execution_count": 434,
     "metadata": {},
     "output_type": "execute_result"
    }
   ],
   "source": [
    "df['sentiment.polarity'].describe()"
   ]
  },
  {
   "cell_type": "code",
   "execution_count": 436,
   "metadata": {},
   "outputs": [
    {
     "data": {
      "text/plain": [
       "<matplotlib.axes._subplots.AxesSubplot at 0x20b8736e588>"
      ]
     },
     "execution_count": 436,
     "metadata": {},
     "output_type": "execute_result"
    },
    {
     "data": {
      "image/png": "[encoded data removed]",
      "text/plain": [
       "<Figure size 864x432 with 1 Axes>"
      ]
     },
     "metadata": {
      "needs_background": "light"
     },
     "output_type": "display_data"
    }
   ],
   "source": [
    "df['sentiment.polarity'].plot(kind='box', figsize=(12,6), title='Sentiment Distribution')"
   ]
  },
  {
   "cell_type": "markdown",
   "metadata": {},
   "source": [
    "Check top and bottom 5 articles whe it comes to sentiment polarity.\n",
    "\n",
    "> Apparently the model seems to be capturing indeed some sentiment, Sports look to shine with good mood where Foreing and Business matters are darker... Let's see quantitatively if that is true."
   ]
  },
  {
   "cell_type": "code",
   "execution_count": 443,
   "metadata": {},
   "outputs": [
    {
     "data": {
      "text/html": [
       "<div>\n",
       "<style scoped>\n",
       "    .dataframe tbody tr th:only-of-type {\n",
       "        vertical-align: middle;\n",
       "    }\n",
       "\n",
       "    .dataframe tbody tr th {\n",
       "        vertical-align: top;\n",
       "    }\n",
       "\n",
       "    .dataframe thead th {\n",
       "        text-align: right;\n",
       "    }\n",
       "</style>\n",
       "<table border=\"1\" class=\"dataframe\">\n",
       "  <thead>\n",
       "    <tr style=\"text-align: right;\">\n",
       "      <th></th>\n",
       "      <th>abstract</th>\n",
       "      <th>sentiment.polarity</th>\n",
       "      <th>news_desk</th>\n",
       "    </tr>\n",
       "  </thead>\n",
       "  <tbody>\n",
       "    <tr>\n",
       "      <th>2975</th>\n",
       "      <td>The country’s warring parties have proposed ways to end a devastating war, but yawning gaps remain and making progress will be tricky.</td>\n",
       "      <td>-1.0</td>\n",
       "      <td>Foreign</td>\n",
       "    </tr>\n",
       "    <tr>\n",
       "      <th>19222</th>\n",
       "      <td>African-Americans and Latinos are especially vulnerable to job losses in the pandemic and at a disadvantage in getting government support.</td>\n",
       "      <td>-1.0</td>\n",
       "      <td>Business</td>\n",
       "    </tr>\n",
       "    <tr>\n",
       "      <th>19770</th>\n",
       "      <td>Tokyo may have been lulled into complacency during the weeks when Japan contained the coronavirus while avoiding economically devastating lockdowns, our bureau chief writes.</td>\n",
       "      <td>-1.0</td>\n",
       "      <td>Foreign</td>\n",
       "    </tr>\n",
       "    <tr>\n",
       "      <th>5121</th>\n",
       "      <td>The pandemic is devastating start-ups. This matters in ways we can’t always see.</td>\n",
       "      <td>-1.0</td>\n",
       "      <td>Business</td>\n",
       "    </tr>\n",
       "    <tr>\n",
       "      <th>861</th>\n",
       "      <td>Ekrem Imamoglu shockingly won the city’s mayoralty in part by wooing the lower and middle-income voters who had powered President Erdogan’s rise.</td>\n",
       "      <td>-1.0</td>\n",
       "      <td>Foreign</td>\n",
       "    </tr>\n",
       "    <tr>\n",
       "      <th>...</th>\n",
       "      <td>...</td>\n",
       "      <td>...</td>\n",
       "      <td>...</td>\n",
       "    </tr>\n",
       "    <tr>\n",
       "      <th>877</th>\n",
       "      <td>The United States midfielder sees her outspoken nature as an obligation, and the World Cup as the perfect stage from which to speak her mind.</td>\n",
       "      <td>1.0</td>\n",
       "      <td>Sports</td>\n",
       "    </tr>\n",
       "    <tr>\n",
       "      <th>16721</th>\n",
       "      <td>Darren Eales built Atlanta United into an M.L.S. champion. Now, after losing his coach and selling his best player, he has to try to do it all over again.</td>\n",
       "      <td>1.0</td>\n",
       "      <td>Sports</td>\n",
       "    </tr>\n",
       "    <tr>\n",
       "      <th>3037</th>\n",
       "      <td>China’s women’s national team was once one of the world’s best. Now it hopes to regain its glory as part of Xi Jinping’s effort to make China a soccer superpower.</td>\n",
       "      <td>1.0</td>\n",
       "      <td>Sports</td>\n",
       "    </tr>\n",
       "    <tr>\n",
       "      <th>16529</th>\n",
       "      <td>The Pelicans guard was drafted by the Lakers, but he is playing his best basketball now, six months after they traded him.</td>\n",
       "      <td>1.0</td>\n",
       "      <td>Sports</td>\n",
       "    </tr>\n",
       "    <tr>\n",
       "      <th>10247</th>\n",
       "      <td>Fiery antigovernment protests in Ukraine, and one of the greatest sports catches ever.</td>\n",
       "      <td>1.0</td>\n",
       "      <td>World</td>\n",
       "    </tr>\n",
       "  </tbody>\n",
       "</table>\n",
       "<p>21116 rows × 3 columns</p>\n",
       "</div>"
      ],
      "text/plain": [
       "                                                                                                                                                                            abstract  \\\n",
       "2975                                          The country’s warring parties have proposed ways to end a devastating war, but yawning gaps remain and making progress will be tricky.   \n",
       "19222                                     African-Americans and Latinos are especially vulnerable to job losses in the pandemic and at a disadvantage in getting government support.   \n",
       "19770  Tokyo may have been lulled into complacency during the weeks when Japan contained the coronavirus while avoiding economically devastating lockdowns, our bureau chief writes.   \n",
       "5121                                                                                                The pandemic is devastating start-ups. This matters in ways we can’t always see.   \n",
       "861                                Ekrem Imamoglu shockingly won the city’s mayoralty in part by wooing the lower and middle-income voters who had powered President Erdogan’s rise.   \n",
       "...                                                                                                                                                                              ...   \n",
       "877                                    The United States midfielder sees her outspoken nature as an obligation, and the World Cup as the perfect stage from which to speak her mind.   \n",
       "16721                     Darren Eales built Atlanta United into an M.L.S. champion. Now, after losing his coach and selling his best player, he has to try to do it all over again.   \n",
       "3037              China’s women’s national team was once one of the world’s best. Now it hopes to regain its glory as part of Xi Jinping’s effort to make China a soccer superpower.   \n",
       "16529                                                     The Pelicans guard was drafted by the Lakers, but he is playing his best basketball now, six months after they traded him.   \n",
       "10247                                                                                         Fiery antigovernment protests in Ukraine, and one of the greatest sports catches ever.   \n",
       "\n",
       "       sentiment.polarity news_desk  \n",
       "2975                 -1.0   Foreign  \n",
       "19222                -1.0  Business  \n",
       "19770                -1.0   Foreign  \n",
       "5121                 -1.0  Business  \n",
       "861                  -1.0   Foreign  \n",
       "...                   ...       ...  \n",
       "877                   1.0    Sports  \n",
       "16721                 1.0    Sports  \n",
       "3037                  1.0    Sports  \n",
       "16529                 1.0    Sports  \n",
       "10247                 1.0     World  \n",
       "\n",
       "[21116 rows x 3 columns]"
      ]
     },
     "execution_count": 443,
     "metadata": {},
     "output_type": "execute_result"
    }
   ],
   "source": [
    "df.sort_values('sentiment.polarity')[['abstract', 'sentiment.polarity', 'news_desk']]"
   ]
  },
  {
   "cell_type": "markdown",
   "metadata": {},
   "source": [
    "Plot the sentiment across news desks.\n",
    "\n",
    "> Here we have to watch out for the new_desks with very small count, since it may not attend statistical representativity with an acceptable error. As a good rule of thump, it's better to cross out cases where sample size is lower than 300 (minimal sample size for 95% confidence interval and 5% margin of error for any sample)."
   ]
  },
  {
   "cell_type": "code",
   "execution_count": 465,
   "metadata": {},
   "outputs": [
    {
     "data": {
      "text/html": [
       "<div>\n",
       "<style scoped>\n",
       "    .dataframe tbody tr th:only-of-type {\n",
       "        vertical-align: middle;\n",
       "    }\n",
       "\n",
       "    .dataframe tbody tr th {\n",
       "        vertical-align: top;\n",
       "    }\n",
       "\n",
       "    .dataframe thead th {\n",
       "        text-align: right;\n",
       "    }\n",
       "</style>\n",
       "<table border=\"1\" class=\"dataframe\">\n",
       "  <thead>\n",
       "    <tr style=\"text-align: right;\">\n",
       "      <th></th>\n",
       "      <th>mean</th>\n",
       "      <th>count</th>\n",
       "    </tr>\n",
       "    <tr>\n",
       "      <th>news_desk</th>\n",
       "      <th></th>\n",
       "      <th></th>\n",
       "    </tr>\n",
       "  </thead>\n",
       "  <tbody>\n",
       "    <tr>\n",
       "      <th>Health</th>\n",
       "      <td>0.208333</td>\n",
       "      <td>4</td>\n",
       "    </tr>\n",
       "    <tr>\n",
       "      <th>Arts</th>\n",
       "      <td>0.200413</td>\n",
       "      <td>50</td>\n",
       "    </tr>\n",
       "    <tr>\n",
       "      <th>Technology</th>\n",
       "      <td>0.101247</td>\n",
       "      <td>11</td>\n",
       "    </tr>\n",
       "    <tr>\n",
       "      <th>Politics</th>\n",
       "      <td>0.090786</td>\n",
       "      <td>2570</td>\n",
       "    </tr>\n",
       "    <tr>\n",
       "      <th>U.S.</th>\n",
       "      <td>0.086411</td>\n",
       "      <td>1006</td>\n",
       "    </tr>\n",
       "    <tr>\n",
       "      <th>Sports</th>\n",
       "      <td>0.081340</td>\n",
       "      <td>3631</td>\n",
       "    </tr>\n",
       "    <tr>\n",
       "      <th>Movies</th>\n",
       "      <td>0.079853</td>\n",
       "      <td>12</td>\n",
       "    </tr>\n",
       "    <tr>\n",
       "      <th>World</th>\n",
       "      <td>0.078949</td>\n",
       "      <td>96</td>\n",
       "    </tr>\n",
       "    <tr>\n",
       "      <th>Science</th>\n",
       "      <td>0.076433</td>\n",
       "      <td>1758</td>\n",
       "    </tr>\n",
       "    <tr>\n",
       "      <th>Business</th>\n",
       "      <td>0.065908</td>\n",
       "      <td>5256</td>\n",
       "    </tr>\n",
       "    <tr>\n",
       "      <th>Foreign</th>\n",
       "      <td>0.028243</td>\n",
       "      <td>6722</td>\n",
       "    </tr>\n",
       "  </tbody>\n",
       "</table>\n",
       "</div>"
      ],
      "text/plain": [
       "                mean  count\n",
       "news_desk                  \n",
       "Health      0.208333      4\n",
       "Arts        0.200413     50\n",
       "Technology  0.101247     11\n",
       "Politics    0.090786   2570\n",
       "U.S.        0.086411   1006\n",
       "Sports      0.081340   3631\n",
       "Movies      0.079853     12\n",
       "World       0.078949     96\n",
       "Science     0.076433   1758\n",
       "Business    0.065908   5256\n",
       "Foreign     0.028243   6722"
      ]
     },
     "execution_count": 465,
     "metadata": {},
     "output_type": "execute_result"
    }
   ],
   "source": [
    "tmp = df.groupby(['news_desk'])['sentiment.polarity'].agg(['mean', 'count']).sort_values('mean', ascending=False)\n",
    "tmp"
   ]
  },
  {
   "cell_type": "markdown",
   "metadata": {},
   "source": [
    "Check it visually.\n",
    "\n",
    "> Interestingly Politics have a higher sentiment than sports... Apparently americans are in fact very patriotic since U.S. is on 2nd rank. Nevertheless we should be cautious before assuming any premisse with this preliminary results, since the TextBlob model was not trained for this specific linguistic domain. "
   ]
  },
  {
   "cell_type": "code",
   "execution_count": 472,
   "metadata": {},
   "outputs": [
    {
     "data": {
      "text/plain": [
       "<matplotlib.axes._subplots.AxesSubplot at 0x20b7d2c6e48>"
      ]
     },
     "execution_count": 472,
     "metadata": {},
     "output_type": "execute_result"
    },
    {
     "data": {
      "image/png": "[encoded data removed]",
      "text/plain": [
       "<Figure size 432x288 with 1 Axes>"
      ]
     },
     "metadata": {
      "needs_background": "light"
     },
     "output_type": "display_data"
    }
   ],
   "source": [
    "tmp[tmp['count']>300]['mean'].plot(kind='bar', title='Sentiment for desks with more than 300 articles')"
   ]
  },
  {
   "cell_type": "markdown",
   "metadata": {},
   "source": [
    "Explode DataFrame based on `keywords` column.\n",
    "\n",
    "> Let's use the features inside `keywords`, there we can find many persons , organization and even subjects for structuring our data."
   ]
  },
  {
   "cell_type": "code",
   "execution_count": 313,
   "metadata": {},
   "outputs": [],
   "source": [
    "exploded_df = df.explode('keywords')\n",
    "exploded_df['keywords.name'] = exploded_df.keywords.apply(lambda x: x['name'] if isinstance(x, dict) else 'others')\n",
    "exploded_df['keywords.value'] = exploded_df.keywords.apply(lambda x: x['value'] if isinstance(x, dict) else 'others')"
   ]
  },
  {
   "cell_type": "markdown",
   "metadata": {},
   "source": [
    "Check Biden vs. Trump.\n",
    "\n",
    "> The sentiment for Trump vs. Biden doe show a tendency for more positive inclination to the Democratic Party. Does it ring any bells to say NYT is a little bit \"leftish\" ? :) By the way, sample sizes are okay here (over 300)!"
   ]
  },
  {
   "cell_type": "code",
   "execution_count": 395,
   "metadata": {},
   "outputs": [
    {
     "data": {
      "text/html": [
       "<div>\n",
       "<style scoped>\n",
       "    .dataframe tbody tr th:only-of-type {\n",
       "        vertical-align: middle;\n",
       "    }\n",
       "\n",
       "    .dataframe tbody tr th {\n",
       "        vertical-align: top;\n",
       "    }\n",
       "\n",
       "    .dataframe thead th {\n",
       "        text-align: right;\n",
       "    }\n",
       "</style>\n",
       "<table border=\"1\" class=\"dataframe\">\n",
       "  <thead>\n",
       "    <tr style=\"text-align: right;\">\n",
       "      <th></th>\n",
       "      <th>count</th>\n",
       "      <th>sentiment.polarity</th>\n",
       "    </tr>\n",
       "  </thead>\n",
       "  <tbody>\n",
       "    <tr>\n",
       "      <th>Trump, Donald J</th>\n",
       "      <td>1919</td>\n",
       "      <td>0.053770</td>\n",
       "    </tr>\n",
       "    <tr>\n",
       "      <th>Biden, Joseph R Jr</th>\n",
       "      <td>962</td>\n",
       "      <td>0.095209</td>\n",
       "    </tr>\n",
       "  </tbody>\n",
       "</table>\n",
       "</div>"
      ],
      "text/plain": [
       "                    count  sentiment.polarity\n",
       "Trump, Donald J      1919            0.053770\n",
       "Biden, Joseph R Jr    962            0.095209"
      ]
     },
     "execution_count": 395,
     "metadata": {},
     "output_type": "execute_result"
    }
   ],
   "source": [
    "mask = exploded_df['keywords.value'].isin(['Trump, Donald J', 'Biden, Joseph R Jr'])\n",
    "pd.concat([exploded_df[mask]['keywords.value'].value_counts().rename('count'),\n",
    "exploded_df[mask].groupby(['keywords.value'])['sentiment.polarity'].mean().sort_values(ascending=False)], axis=1)"
   ]
  },
  {
   "cell_type": "markdown",
   "metadata": {},
   "source": [
    "Check sentiment over time.\n",
    "\n",
    "> We can see a consistent trend for more positive articles when refering to Biden as in comparison to Trump."
   ]
  },
  {
   "cell_type": "code",
   "execution_count": 392,
   "metadata": {},
   "outputs": [
    {
     "data": {
      "image/png": "[encoded data removed]",
      "text/plain": [
       "<Figure size 864x432 with 1 Axes>"
      ]
     },
     "metadata": {
      "needs_background": "light"
     },
     "output_type": "display_data"
    }
   ],
   "source": [
    "col = 'sentiment.polarity'\n",
    "tmp = exploded_df[mask].groupby([pd.Grouper(key='pub_date', freq='M'), 'keywords.value'])[col].mean().unstack().sort_index()\n",
    "column_order = tmp.sum().sort_values(ascending=False).index\n",
    "tmp = tmp[column_order]\n",
    "tmp.plot(kind='line', stacked=False, colormap='viridis',\n",
    "         figsize=(12,6),\n",
    "         title=f'Chronological Distribution of NYT Article - `{col}`')\\\n",
    "   .set(xlabel='date', ylabel='sentiment polarity')\n",
    "_ = plt.legend(loc='center left', bbox_to_anchor=(1.0, 0.75), title='segmentation')"
   ]
  },
  {
   "cell_type": "markdown",
   "metadata": {},
   "source": [
    "### Conclusion\n",
    "\n",
    "> We've drawn some interesting insights which must still be validated. A leftish tendency for NYT when it comes to refering to election candidates and also how some subjects are more positive than others (Sports vs. Foreign). A better analysis would be to validate a few data points before publishing any wrong conclusions. Here for simplicity purposes we're leaving it as is!"
   ]
  }
 ],
 "metadata": {
  "kernelspec": {
   "display_name": "Python 3",
   "language": "python",
   "name": "python3"
  },
  "language_info": {
   "codemirror_mode": {
    "name": "ipython",
    "version": 3
   },
   "file_extension": ".py",
   "mimetype": "text/x-python",
   "name": "python",
   "nbconvert_exporter": "python",
   "pygments_lexer": "ipython3",
   "version": "3.7.7"
  }
 },
 "nbformat": 4,
 "nbformat_minor": 4
}
